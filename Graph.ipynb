{
 "cells": [
  {
   "cell_type": "markdown",
   "id": "11bc380d",
   "metadata": {},
   "source": [
    "# Graph\n",
    "This is the code that takes the dataframe and turns it into a graph"
   ]
  },
  {
   "cell_type": "code",
   "execution_count": 14,
   "id": "96c8faa6",
   "metadata": {},
   "outputs": [],
   "source": [
    "import pandas as pd\n",
    "from tqdm import tqdm\n",
    "from joblib import Parallel, delayed\n",
    "from collections import defaultdict\n",
    "import netwulf as nw\n",
    "import networkx as nx\n",
    "import matplotlib.pyplot as plt\n",
    "import seaborn as sns\n",
    "import json\n",
    "from networkx.readwrite import json_graph"
   ]
  },
  {
   "cell_type": "markdown",
   "id": "1dd67b4b",
   "metadata": {},
   "source": [
    "Loading merged dataframe"
   ]
  },
  {
   "cell_type": "code",
   "execution_count": 4,
   "id": "dd417894",
   "metadata": {},
   "outputs": [
    {
     "name": "stderr",
     "output_type": "stream",
     "text": [
      "C:\\Users\\mia\\AppData\\Local\\Temp\\ipykernel_42172\\4160206767.py:1: DtypeWarning: Columns (13) have mixed types. Specify dtype option on import or set low_memory=False.\n",
      "  df = pd.read_csv(\"data/Merged_Reviews_and_Metadata.csv\")\n"
     ]
    },
    {
     "name": "stdout",
     "output_type": "stream",
     "text": [
      "(755717, 14)\n",
      "(748023, 2)\n"
     ]
    }
   ],
   "source": [
    "df = pd.read_csv(\"data/Merged_Reviews_and_Metadata.csv\")\n",
    "print(df.shape)\n",
    "df_graph = df[['user_id', 'parent_asin']].dropna().drop_duplicates()\n",
    "print(df_graph.shape)"
   ]
  },
  {
   "cell_type": "code",
   "execution_count": 6,
   "id": "d3a81046",
   "metadata": {},
   "outputs": [
    {
     "name": "stdout",
     "output_type": "stream",
     "text": [
      "Creating mappings...\n"
     ]
    },
    {
     "name": "stderr",
     "output_type": "stream",
     "text": [
      "100%|██████████| 748023/748023 [00:20<00:00, 37195.55it/s]\n"
     ]
    }
   ],
   "source": [
    "# 2. Create bidirectional mappings\n",
    "print(\"Creating mappings...\")\n",
    "# ASIN to reviewers\n",
    "asin_to_reviewers = defaultdict(set)\n",
    "# Reviewer to ASINs\n",
    "reviewer_to_asins = defaultdict(set)\n",
    "\n",
    "for _, row in tqdm(df_graph.iterrows(), total=len(df_graph)):\n",
    "    asin_to_reviewers[row['parent_asin']].add(row['user_id'])\n",
    "    reviewer_to_asins[row['user_id']].add(row['parent_asin'])"
   ]
  },
  {
   "cell_type": "code",
   "execution_count": 8,
   "id": "9ad00fa7",
   "metadata": {},
   "outputs": [],
   "source": [
    "# 3. Create graph and add nodes\n",
    "G = nx.Graph()\n",
    "G.add_nodes_from(asin_to_reviewers.keys())"
   ]
  },
  {
   "cell_type": "code",
   "execution_count": 9,
   "id": "e4f3b7e2",
   "metadata": {},
   "outputs": [
    {
     "name": "stdout",
     "output_type": "stream",
     "text": [
      "Computing edges in parallel...\n"
     ]
    },
    {
     "name": "stderr",
     "output_type": "stream",
     "text": [
      "100%|██████████| 21412/21412 [08:41<00:00, 41.05it/s]\n"
     ]
    }
   ],
   "source": [
    "# 4. Parallel edge computation\n",
    "def compute_edges_for_asin(asin, asin_to_reviewers, all_asins):\n",
    "    edges = []\n",
    "    # Get all other ASINs that share at least one reviewer\n",
    "    co_reviewed_asins = set()\n",
    "    for reviewer in asin_to_reviewers[asin]:\n",
    "        co_reviewed_asins.update(reviewer_to_asins[reviewer])\n",
    "    \n",
    "    # Remove self and already processed pairs\n",
    "    co_reviewed_asins.discard(asin)\n",
    "    co_reviewed_asins = [a for a in co_reviewed_asins if all_asins.index(a) > all_asins.index(asin)]\n",
    "    \n",
    "    for other_asin in co_reviewed_asins:\n",
    "        weight = len(asin_to_reviewers[asin] & asin_to_reviewers[other_asin])\n",
    "        if weight > 0:\n",
    "            edges.append((asin, other_asin, weight))\n",
    "    return edges\n",
    "\n",
    "print(\"Computing edges in parallel...\")\n",
    "all_asins = list(asin_to_reviewers.keys())\n",
    "results = Parallel(n_jobs=-1, prefer=\"threads\")(\n",
    "    delayed(compute_edges_for_asin)(asin, asin_to_reviewers, all_asins)\n",
    "    for asin in tqdm(all_asins)\n",
    ")"
   ]
  },
  {
   "cell_type": "code",
   "execution_count": 10,
   "id": "b654107a",
   "metadata": {},
   "outputs": [
    {
     "name": "stdout",
     "output_type": "stream",
     "text": [
      "Building graph...\n"
     ]
    },
    {
     "name": "stderr",
     "output_type": "stream",
     "text": [
      "100%|██████████| 21412/21412 [00:02<00:00, 9658.74it/s] "
     ]
    },
    {
     "name": "stdout",
     "output_type": "stream",
     "text": [
      "Graph constructed with 21412 nodes and 1282957 edges\n"
     ]
    },
    {
     "name": "stderr",
     "output_type": "stream",
     "text": [
      "\n"
     ]
    }
   ],
   "source": [
    "# 5. Add edges to graph\n",
    "print(\"Building graph...\")\n",
    "for edges in tqdm(results):\n",
    "    for asin1, asin2, weight in edges:\n",
    "        G.add_edge(asin1, asin2, weight=weight)\n",
    "\n",
    "print(f\"Graph constructed with {G.number_of_nodes()} nodes and {G.number_of_edges()} edges\")"
   ]
  },
  {
   "cell_type": "code",
   "execution_count": 11,
   "id": "6ddc2c0d",
   "metadata": {},
   "outputs": [
    {
     "data": {
      "text/plain": [
       "(None, None)"
      ]
     },
     "execution_count": 11,
     "metadata": {},
     "output_type": "execute_result"
    }
   ],
   "source": [
    "nw.visualize(G)"
   ]
  },
  {
   "cell_type": "code",
   "execution_count": 13,
   "id": "83973be2",
   "metadata": {},
   "outputs": [
    {
     "name": "stdout",
     "output_type": "stream",
     "text": [
      "Node count: 21412\n",
      "Edge count: 1282957\n"
     ]
    },
    {
     "data": {
      "image/png": "[encoded data removed]",
      "text/plain": [
       "<Figure size 1000x600 with 1 Axes>"
      ]
     },
     "metadata": {},
     "output_type": "display_data"
    }
   ],
   "source": [
    "# Node count\n",
    "node_count = G.number_of_nodes()\n",
    "print(f\"Node count: {node_count}\")\n",
    "\n",
    "# Edge count\n",
    "edge_count = G.number_of_edges()\n",
    "print(f\"Edge count: {edge_count}\")\n",
    "\n",
    "degrees = [deg for node, deg in G.degree()]\n",
    "edge_weights = [G[u][v]['weight'] for u, v in G.edges()]\n",
    "\n",
    "plt.figure(figsize=(10, 6))\n",
    "sns.histplot(degrees, bins=50, kde=False)\n",
    "plt.title(f\"Degree Distribution of ASINs\")\n",
    "plt.xlabel('Degree (Number of edges per node)')\n",
    "plt.ylabel('Frequency')\n",
    "plt.show()"
   ]
  },
  {
   "cell_type": "code",
   "execution_count": 15,
   "id": "21142d79",
   "metadata": {},
   "outputs": [],
   "source": [
    "graph_data = json_graph.node_link_data(G)\n",
    "with open(\"network.json\", \"w\") as f:\n",
    "    json.dump(graph_data, f, indent = 4)"
   ]
  }
 ],
 "metadata": {
  "kernelspec": {
   "display_name": "Python 3",
   "language": "python",
   "name": "python3"
  },
  "language_info": {
   "codemirror_mode": {
    "name": "ipython",
    "version": 3
   },
   "file_extension": ".py",
   "mimetype": "text/x-python",
   "name": "python",
   "nbconvert_exporter": "python",
   "pygments_lexer": "ipython3",
   "version": "3.12.8"
  }
 },
 "nbformat": 4,
 "nbformat_minor": 5
}
