{
 "cells": [
  {
   "cell_type": "markdown",
   "id": "af131244",
   "metadata": {},
   "source": [
    "# Exploring Amazon dataset\n",
    "Link: https://amazon-reviews-2023.github.io/"
   ]
  },
  {
   "cell_type": "code",
   "execution_count": 1,
   "id": "df7d40d3",
   "metadata": {},
   "outputs": [],
   "source": [
    "import json\n",
    "import pandas as pd\n",
    "from tqdm import tqdm\n",
    "import networkx as nx\n",
    "from itertools import combinations, chain\n",
    "from collections import Counter, defaultdict\n",
    "import netwulf\n",
    "from joblib import Parallel, delayed"
   ]
  },
  {
   "cell_type": "markdown",
   "id": "97db5c1c",
   "metadata": {},
   "source": [
    "Starting with \"Movies and TV\" "
   ]
  },
  {
   "cell_type": "markdown",
   "id": "22406f9f",
   "metadata": {},
   "source": [
    "## Extracting the dataset "
   ]
  },
  {
   "cell_type": "markdown",
   "id": "485567df",
   "metadata": {},
   "source": [
    "Loading the jsonl file and identifying the relevant columns"
   ]
  },
  {
   "cell_type": "code",
   "execution_count": 2,
   "id": "119dc3f6",
   "metadata": {},
   "outputs": [
    {
     "name": "stdout",
     "output_type": "stream",
     "text": [
      "{'rating': 5.0, 'title': 'Five Stars', 'text': \"Amazon, please buy the show! I'm hooked!\", 'images': [], 'asin': 'B013488XFS', 'parent_asin': 'B013488XFS', 'user_id': 'AGGZ357AO26RQZVRLGU4D4N52DZQ', 'timestamp': 1440385637000, 'helpful_vote': 0, 'verified_purchase': True}\n"
     ]
    }
   ],
   "source": [
    "file_review = \"Movies_and_TV.jsonl\"\n",
    "with open(file_review, 'r') as fp:\n",
    "    for line in fp:\n",
    "        print(json.loads(line.strip()))\n",
    "        break"
   ]
  },
  {
   "cell_type": "markdown",
   "id": "650bd6ab",
   "metadata": {},
   "source": [
    "Function taken from https://github.com/hyp1231/AmazonReviews2023/blob/main/benchmark_scripts/kcore_filtering.py and editted to fit our needs"
   ]
  },
  {
   "cell_type": "code",
   "execution_count": 3,
   "id": "0a08fb50",
   "metadata": {},
   "outputs": [],
   "source": [
    "def load_ratings(file):\n",
    "    inters = []\n",
    "    with open(file, 'r') as fp:\n",
    "        for line in tqdm(fp, desc='Load ratings'):\n",
    "            try:\n",
    "                dp = json.loads(line.strip())\n",
    "                item, user, rating, time, text, verified = dp['parent_asin'], dp['user_id'], dp['rating'], dp['timestamp'], dp['text'], dp[\"verified_purchase\"]\n",
    "                inters.append((item, user, float(rating), int(time), text, bool(verified)))\n",
    "            except ValueError:\n",
    "                print(line)\n",
    "    return inters"
   ]
  },
  {
   "cell_type": "code",
   "execution_count": 4,
   "id": "84f65d58",
   "metadata": {},
   "outputs": [
    {
     "name": "stderr",
     "output_type": "stream",
     "text": [
      "Load ratings: 17328314it [01:19, 218841.00it/s]\n"
     ]
    }
   ],
   "source": [
    "file_review = \"Movies_and_TV.jsonl\"\n",
    "df_list = load_ratings(file_review)"
   ]
  },
  {
   "cell_type": "code",
   "execution_count": 5,
   "id": "ba41722e",
   "metadata": {},
   "outputs": [
    {
     "data": {
      "text/html": [
       "<div>\n",
       "<style scoped>\n",
       "    .dataframe tbody tr th:only-of-type {\n",
       "        vertical-align: middle;\n",
       "    }\n",
       "\n",
       "    .dataframe tbody tr th {\n",
       "        vertical-align: top;\n",
       "    }\n",
       "\n",
       "    .dataframe thead th {\n",
       "        text-align: right;\n",
       "    }\n",
       "</style>\n",
       "<table border=\"1\" class=\"dataframe\">\n",
       "  <thead>\n",
       "    <tr style=\"text-align: right;\">\n",
       "      <th></th>\n",
       "      <th>parent_asin</th>\n",
       "      <th>user_id</th>\n",
       "      <th>rating</th>\n",
       "      <th>timestamp</th>\n",
       "      <th>text</th>\n",
       "      <th>verified_purchase</th>\n",
       "    </tr>\n",
       "  </thead>\n",
       "  <tbody>\n",
       "    <tr>\n",
       "      <th>0</th>\n",
       "      <td>B013488XFS</td>\n",
       "      <td>AGGZ357AO26RQZVRLGU4D4N52DZQ</td>\n",
       "      <td>5.0</td>\n",
       "      <td>1440385637000</td>\n",
       "      <td>Amazon, please buy the show! I'm hooked!</td>\n",
       "      <td>True</td>\n",
       "    </tr>\n",
       "    <tr>\n",
       "      <th>1</th>\n",
       "      <td>B00CB6VTDS</td>\n",
       "      <td>AGKASBHYZPGTEPO6LWZPVJWB2BVA</td>\n",
       "      <td>5.0</td>\n",
       "      <td>1461100610000</td>\n",
       "      <td>My Kiddos LOVE this show!!</td>\n",
       "      <td>True</td>\n",
       "    </tr>\n",
       "    <tr>\n",
       "      <th>2</th>\n",
       "      <td>B096Z8Z3R6</td>\n",
       "      <td>AG2L7H23R5LLKDKLBEF2Q3L2MVDA</td>\n",
       "      <td>3.0</td>\n",
       "      <td>1646271834582</td>\n",
       "      <td>Annabella Sciorra did her character justice wi...</td>\n",
       "      <td>True</td>\n",
       "    </tr>\n",
       "    <tr>\n",
       "      <th>3</th>\n",
       "      <td>B09M14D9FZ</td>\n",
       "      <td>AG2L7H23R5LLKDKLBEF2Q3L2MVDA</td>\n",
       "      <td>4.0</td>\n",
       "      <td>1645937761864</td>\n",
       "      <td>...there should be more of a range of characte...</td>\n",
       "      <td>False</td>\n",
       "    </tr>\n",
       "    <tr>\n",
       "      <th>4</th>\n",
       "      <td>B001H1SVZC</td>\n",
       "      <td>AG2L7H23R5LLKDKLBEF2Q3L2MVDA</td>\n",
       "      <td>5.0</td>\n",
       "      <td>1590639227074</td>\n",
       "      <td>...isn't always how you expect it to be, but w...</td>\n",
       "      <td>True</td>\n",
       "    </tr>\n",
       "  </tbody>\n",
       "</table>\n",
       "</div>"
      ],
      "text/plain": [
       "  parent_asin                       user_id  rating      timestamp  \\\n",
       "0  B013488XFS  AGGZ357AO26RQZVRLGU4D4N52DZQ     5.0  1440385637000   \n",
       "1  B00CB6VTDS  AGKASBHYZPGTEPO6LWZPVJWB2BVA     5.0  1461100610000   \n",
       "2  B096Z8Z3R6  AG2L7H23R5LLKDKLBEF2Q3L2MVDA     3.0  1646271834582   \n",
       "3  B09M14D9FZ  AG2L7H23R5LLKDKLBEF2Q3L2MVDA     4.0  1645937761864   \n",
       "4  B001H1SVZC  AG2L7H23R5LLKDKLBEF2Q3L2MVDA     5.0  1590639227074   \n",
       "\n",
       "                                                text  verified_purchase  \n",
       "0           Amazon, please buy the show! I'm hooked!               True  \n",
       "1                         My Kiddos LOVE this show!!               True  \n",
       "2  Annabella Sciorra did her character justice wi...               True  \n",
       "3  ...there should be more of a range of characte...              False  \n",
       "4  ...isn't always how you expect it to be, but w...               True  "
      ]
     },
     "execution_count": 5,
     "metadata": {},
     "output_type": "execute_result"
    }
   ],
   "source": [
    "df_review = pd.DataFrame(df_list,columns=[\"parent_asin\",\"user_id\",\"rating\",\"timestamp\",\"text\", \"verified_purchase\"])\n",
    "df_review.head()"
   ]
  },
  {
   "cell_type": "code",
   "execution_count": 6,
   "id": "30be34e9",
   "metadata": {},
   "outputs": [
    {
     "data": {
      "text/plain": [
       "(17328314, 6)"
      ]
     },
     "execution_count": 6,
     "metadata": {},
     "output_type": "execute_result"
    }
   ],
   "source": [
    "df_review.shape"
   ]
  },
  {
   "cell_type": "markdown",
   "id": "f271dbff",
   "metadata": {},
   "source": [
    "Filter based on if the purchase was verified"
   ]
  },
  {
   "cell_type": "code",
   "execution_count": 7,
   "id": "18eb63fa",
   "metadata": {},
   "outputs": [
    {
     "data": {
      "text/plain": [
       "(13757796, 6)"
      ]
     },
     "execution_count": 7,
     "metadata": {},
     "output_type": "execute_result"
    }
   ],
   "source": [
    "df_review_cleaned = df_review[df_review[\"verified_purchase\"] == True]\n",
    "df_review_cleaned.shape"
   ]
  },
  {
   "cell_type": "markdown",
   "id": "5e391db5",
   "metadata": {},
   "source": [
    "Filter based on length of review (more than 10 words)"
   ]
  },
  {
   "cell_type": "code",
   "execution_count": 8,
   "id": "42899d2a",
   "metadata": {},
   "outputs": [
    {
     "data": {
      "text/plain": [
       "(8006447, 6)"
      ]
     },
     "execution_count": 8,
     "metadata": {},
     "output_type": "execute_result"
    }
   ],
   "source": [
    "df_review_cleaned = df_review_cleaned[df_review_cleaned['text'].apply(lambda x: len(str(x).split()) >= 10)]\n",
    "df_review_cleaned.shape"
   ]
  },
  {
   "cell_type": "markdown",
   "id": "0c12c0b4",
   "metadata": {},
   "source": [
    "**After basic filtering there are 8,006,447 reviews in the dataset**"
   ]
  },
  {
   "cell_type": "markdown",
   "id": "4ca9dffc",
   "metadata": {},
   "source": [
    "Doing the same with the movie meta data"
   ]
  },
  {
   "cell_type": "code",
   "execution_count": 11,
   "id": "64e0da38",
   "metadata": {},
   "outputs": [
    {
     "name": "stdout",
     "output_type": "stream",
     "text": [
      "{'main_category': 'Prime Video', 'title': 'Glee', 'subtitle': 'UnentitledUnentitled', 'average_rating': 4.7, 'rating_number': 2004, 'features': ['IMDb 6.8', '2013', '22 episodes', 'X-Ray', 'TV-14'], 'description': ['Entering its fourth season, this year the members of New Directions compete amongst themselves to be the \"new Rachel\" and hold auditions to find new students. Meanwhile, the graduating class leaves the comforts of McKinley where Rachel struggles to please her demanding NYADA teacher (Kate Hudson) and Kurt second-guesses his decision to stay in Lima. Four newcomers also join the musical comedy.'], 'price': 22.39, 'images': [{'360w': 'https://images-na.ssl-images-amazon.com/images/S/pv-target-images/8251ee0b9f888d262cd817a5f1aee0b29ffed56a4535af898b827292f881e169._RI_SX360_FMwebp_.jpg', '480w': 'https://images-na.ssl-images-amazon.com/images/S/pv-target-images/8251ee0b9f888d262cd817a5f1aee0b29ffed56a4535af898b827292f881e169._RI_SX480_FMwebp_.jpg', '720w': 'https://images-na.ssl-images-amazon.com/images/S/pv-target-images/8251ee0b9f888d262cd817a5f1aee0b29ffed56a4535af898b827292f881e169._RI_SX720_FMwebp_.jpg', '1080w': 'https://images-na.ssl-images-amazon.com/images/S/pv-target-images/8251ee0b9f888d262cd817a5f1aee0b29ffed56a4535af898b827292f881e169._RI_SX1080_FMwebp_.jpg', '1440w': 'https://images-na.ssl-images-amazon.com/images/S/pv-target-images/8251ee0b9f888d262cd817a5f1aee0b29ffed56a4535af898b827292f881e169._RI_SX1440_FMwebp_.jpg', '1920w': 'https://images-na.ssl-images-amazon.com/images/S/pv-target-images/8251ee0b9f888d262cd817a5f1aee0b29ffed56a4535af898b827292f881e169._RI_SX1920_FMwebp_.jpg', 'variant': 'MAIN'}], 'videos': [], 'store': None, 'categories': ['Comedy', 'Drama', 'Arts, Entertainment, and Culture', 'Music Videos and Concerts'], 'details': {'Content advisory': ['Violence', 'substance use', 'alcohol use', 'smoking', 'foul language', 'sexual content'], 'Audio languages': ['English'], 'Subtitles': ['English [CC]'], 'Directors': ['Bradley Buecker', 'Brad Falchuk', 'Eric Stoltz', 'Paris Barclay', 'Ian Brennan', 'Ryan Murphy', 'Alfonso Gomez-Rejon', 'Elodie Keene', 'Adam Shankman', 'Paul McCrane']}, 'parent_asin': 'B00ABWKL3I', 'bought_together': None}\n"
     ]
    }
   ],
   "source": [
    "file_product = \"meta_Movies_and_TV.jsonl\"\n",
    "with open(file_product, 'r') as fp:\n",
    "    for line in fp:\n",
    "        print(json.loads(line.strip()))\n",
    "        break\n"
   ]
  },
  {
   "cell_type": "code",
   "execution_count": 12,
   "id": "1d591ffc",
   "metadata": {},
   "outputs": [],
   "source": [
    "def load_meta(file):\n",
    "    inters = []\n",
    "    with open(file, 'r') as fp:\n",
    "        for line in tqdm(fp, desc='Load ratings'):\n",
    "            try:\n",
    "                dp = json.loads(line.strip())\n",
    "                item, category, avg_rating, n_ratings, title = dp['parent_asin'], dp['main_category'], dp['average_rating'], dp['rating_number'], dp['title'] # changed to relevant types\n",
    "                if type(avg_rating) == type(None) or type(n_ratings) == type(None): # Removing all items without ratings\n",
    "                    continue\n",
    "                inters.append((item, category, float(avg_rating), int(n_ratings), title))\n",
    "            except ValueError:\n",
    "                print(line)\n",
    "    return inters"
   ]
  },
  {
   "cell_type": "code",
   "execution_count": 13,
   "id": "b7acb331",
   "metadata": {},
   "outputs": [
    {
     "name": "stderr",
     "output_type": "stream",
     "text": [
      "Load ratings: 748224it [00:09, 78892.29it/s]\n"
     ]
    }
   ],
   "source": [
    "file_product = \"meta_Movies_and_TV.jsonl\"\n",
    "df_list2 = load_meta(file_product)"
   ]
  },
  {
   "cell_type": "code",
   "execution_count": 14,
   "id": "339ce05a",
   "metadata": {},
   "outputs": [
    {
     "data": {
      "text/html": [
       "<div>\n",
       "<style scoped>\n",
       "    .dataframe tbody tr th:only-of-type {\n",
       "        vertical-align: middle;\n",
       "    }\n",
       "\n",
       "    .dataframe tbody tr th {\n",
       "        vertical-align: top;\n",
       "    }\n",
       "\n",
       "    .dataframe thead th {\n",
       "        text-align: right;\n",
       "    }\n",
       "</style>\n",
       "<table border=\"1\" class=\"dataframe\">\n",
       "  <thead>\n",
       "    <tr style=\"text-align: right;\">\n",
       "      <th></th>\n",
       "      <th>parent_asin</th>\n",
       "      <th>main_category</th>\n",
       "      <th>average_rating</th>\n",
       "      <th>rating_number</th>\n",
       "      <th>title</th>\n",
       "    </tr>\n",
       "  </thead>\n",
       "  <tbody>\n",
       "    <tr>\n",
       "      <th>0</th>\n",
       "      <td>B00ABWKL3I</td>\n",
       "      <td>Prime Video</td>\n",
       "      <td>4.7</td>\n",
       "      <td>2004</td>\n",
       "      <td>Glee</td>\n",
       "    </tr>\n",
       "    <tr>\n",
       "      <th>1</th>\n",
       "      <td>B09WDLJ4HP</td>\n",
       "      <td>Prime Video</td>\n",
       "      <td>3.0</td>\n",
       "      <td>6</td>\n",
       "      <td>One Perfect Wedding</td>\n",
       "    </tr>\n",
       "    <tr>\n",
       "      <th>2</th>\n",
       "      <td>B00AHN851G</td>\n",
       "      <td>Movies &amp; TV</td>\n",
       "      <td>5.0</td>\n",
       "      <td>7</td>\n",
       "      <td>How to Make Animatronic Characters - Organic M...</td>\n",
       "    </tr>\n",
       "    <tr>\n",
       "      <th>3</th>\n",
       "      <td>B01G9ILXXE</td>\n",
       "      <td>Prime Video</td>\n",
       "      <td>4.3</td>\n",
       "      <td>35</td>\n",
       "      <td>Ode to Joy: Beethoven's Symphony No. 9</td>\n",
       "    </tr>\n",
       "    <tr>\n",
       "      <th>4</th>\n",
       "      <td>B009SIYXDA</td>\n",
       "      <td>Prime Video</td>\n",
       "      <td>4.7</td>\n",
       "      <td>360</td>\n",
       "      <td>Ben 10: Alien Force (Classic)</td>\n",
       "    </tr>\n",
       "  </tbody>\n",
       "</table>\n",
       "</div>"
      ],
      "text/plain": [
       "  parent_asin main_category  average_rating  rating_number  \\\n",
       "0  B00ABWKL3I   Prime Video             4.7           2004   \n",
       "1  B09WDLJ4HP   Prime Video             3.0              6   \n",
       "2  B00AHN851G   Movies & TV             5.0              7   \n",
       "3  B01G9ILXXE   Prime Video             4.3             35   \n",
       "4  B009SIYXDA   Prime Video             4.7            360   \n",
       "\n",
       "                                               title  \n",
       "0                                               Glee  \n",
       "1                                One Perfect Wedding  \n",
       "2  How to Make Animatronic Characters - Organic M...  \n",
       "3             Ode to Joy: Beethoven's Symphony No. 9  \n",
       "4                      Ben 10: Alien Force (Classic)  "
      ]
     },
     "execution_count": 14,
     "metadata": {},
     "output_type": "execute_result"
    }
   ],
   "source": [
    "df_product = pd.DataFrame(df_list2,columns=[\"parent_asin\",\"main_category\",\"average_rating\",\"rating_number\",\"title\"])\n",
    "df_product.head()"
   ]
  },
  {
   "cell_type": "code",
   "execution_count": 15,
   "id": "a5c39118",
   "metadata": {},
   "outputs": [
    {
     "data": {
      "text/plain": [
       "(747978, 5)"
      ]
     },
     "execution_count": 15,
     "metadata": {},
     "output_type": "execute_result"
    }
   ],
   "source": [
    "df_product.shape"
   ]
  },
  {
   "cell_type": "markdown",
   "id": "61705ce0",
   "metadata": {},
   "source": [
    "Filtering, so that the main category is only Prime Video or Movies & TV"
   ]
  },
  {
   "cell_type": "code",
   "execution_count": 16,
   "id": "9fcd358f",
   "metadata": {},
   "outputs": [
    {
     "data": {
      "text/plain": [
       "(708825, 5)"
      ]
     },
     "execution_count": 16,
     "metadata": {},
     "output_type": "execute_result"
    }
   ],
   "source": [
    "df_product_cleaned =  df_product[(df_product[\"main_category\"] == \"Prime Video\") | (df_product[\"main_category\"] == \"Movies & TV\")]\n",
    "df_product_cleaned.shape"
   ]
  },
  {
   "cell_type": "markdown",
   "id": "7754ab0b",
   "metadata": {},
   "source": [
    "Filtering the number of ratings, so that the minum amount of ratings is 10 "
   ]
  },
  {
   "cell_type": "code",
   "execution_count": 17,
   "id": "09150776",
   "metadata": {},
   "outputs": [
    {
     "data": {
      "text/plain": [
       "(550252, 5)"
      ]
     },
     "execution_count": 17,
     "metadata": {},
     "output_type": "execute_result"
    }
   ],
   "source": [
    "rating_threshold = 10\n",
    "df_product_cleaned = df_product_cleaned[df_product_cleaned[\"rating_number\"] >= rating_threshold]\n",
    "df_product_cleaned.shape"
   ]
  },
  {
   "cell_type": "markdown",
   "id": "07c066e3",
   "metadata": {},
   "source": [
    "Merging the 2 dataframes <br> They are merged on parent_asin, using a inner join because we are only interrested in the network where there is both reviews with text and and movies that have a description"
   ]
  },
  {
   "cell_type": "code",
   "execution_count": 18,
   "id": "01b90f10",
   "metadata": {},
   "outputs": [
    {
     "data": {
      "text/html": [
       "<div>\n",
       "<style scoped>\n",
       "    .dataframe tbody tr th:only-of-type {\n",
       "        vertical-align: middle;\n",
       "    }\n",
       "\n",
       "    .dataframe tbody tr th {\n",
       "        vertical-align: top;\n",
       "    }\n",
       "\n",
       "    .dataframe thead th {\n",
       "        text-align: right;\n",
       "    }\n",
       "</style>\n",
       "<table border=\"1\" class=\"dataframe\">\n",
       "  <thead>\n",
       "    <tr style=\"text-align: right;\">\n",
       "      <th></th>\n",
       "      <th>parent_asin</th>\n",
       "      <th>user_id</th>\n",
       "      <th>rating</th>\n",
       "      <th>timestamp</th>\n",
       "      <th>text</th>\n",
       "      <th>verified_purchase</th>\n",
       "      <th>main_category</th>\n",
       "      <th>average_rating</th>\n",
       "      <th>rating_number</th>\n",
       "      <th>title</th>\n",
       "    </tr>\n",
       "  </thead>\n",
       "  <tbody>\n",
       "    <tr>\n",
       "      <th>0</th>\n",
       "      <td>B096Z8Z3R6</td>\n",
       "      <td>AG2L7H23R5LLKDKLBEF2Q3L2MVDA</td>\n",
       "      <td>3.0</td>\n",
       "      <td>1646271834582</td>\n",
       "      <td>Annabella Sciorra did her character justice wi...</td>\n",
       "      <td>True</td>\n",
       "      <td>Prime Video</td>\n",
       "      <td>3.9</td>\n",
       "      <td>182</td>\n",
       "      <td>None</td>\n",
       "    </tr>\n",
       "    <tr>\n",
       "      <th>1</th>\n",
       "      <td>B001H1SVZC</td>\n",
       "      <td>AG2L7H23R5LLKDKLBEF2Q3L2MVDA</td>\n",
       "      <td>5.0</td>\n",
       "      <td>1590639227074</td>\n",
       "      <td>...isn't always how you expect it to be, but w...</td>\n",
       "      <td>True</td>\n",
       "      <td>Prime Video</td>\n",
       "      <td>4.5</td>\n",
       "      <td>389</td>\n",
       "      <td>None</td>\n",
       "    </tr>\n",
       "    <tr>\n",
       "      <th>2</th>\n",
       "      <td>B06WVW16WY</td>\n",
       "      <td>AG2L7H23R5LLKDKLBEF2Q3L2MVDA</td>\n",
       "      <td>5.0</td>\n",
       "      <td>1586999747540</td>\n",
       "      <td>As you learn about the very unique characters ...</td>\n",
       "      <td>True</td>\n",
       "      <td>Prime Video</td>\n",
       "      <td>4.8</td>\n",
       "      <td>1966</td>\n",
       "      <td>None</td>\n",
       "    </tr>\n",
       "    <tr>\n",
       "      <th>3</th>\n",
       "      <td>B07RXM26FG</td>\n",
       "      <td>AGCI7FAH4GL5FI65HYLKWTMFZ2CQ</td>\n",
       "      <td>5.0</td>\n",
       "      <td>1569734232700</td>\n",
       "      <td>Our family loved the film. We have kids and th...</td>\n",
       "      <td>True</td>\n",
       "      <td>Prime Video</td>\n",
       "      <td>4.5</td>\n",
       "      <td>57962</td>\n",
       "      <td>None</td>\n",
       "    </tr>\n",
       "    <tr>\n",
       "      <th>4</th>\n",
       "      <td>B0002J58ME</td>\n",
       "      <td>AGXVBIUFLFGMVLATYXHJYL4A5Q7Q</td>\n",
       "      <td>5.0</td>\n",
       "      <td>1146713492000</td>\n",
       "      <td>This DVD was GREAT!  I am a stay at home mom w...</td>\n",
       "      <td>True</td>\n",
       "      <td>Movies &amp; TV</td>\n",
       "      <td>4.6</td>\n",
       "      <td>793</td>\n",
       "      <td>10 Minute Solution: Pilates</td>\n",
       "    </tr>\n",
       "  </tbody>\n",
       "</table>\n",
       "</div>"
      ],
      "text/plain": [
       "  parent_asin                       user_id  rating      timestamp  \\\n",
       "0  B096Z8Z3R6  AG2L7H23R5LLKDKLBEF2Q3L2MVDA     3.0  1646271834582   \n",
       "1  B001H1SVZC  AG2L7H23R5LLKDKLBEF2Q3L2MVDA     5.0  1590639227074   \n",
       "2  B06WVW16WY  AG2L7H23R5LLKDKLBEF2Q3L2MVDA     5.0  1586999747540   \n",
       "3  B07RXM26FG  AGCI7FAH4GL5FI65HYLKWTMFZ2CQ     5.0  1569734232700   \n",
       "4  B0002J58ME  AGXVBIUFLFGMVLATYXHJYL4A5Q7Q     5.0  1146713492000   \n",
       "\n",
       "                                                text  verified_purchase  \\\n",
       "0  Annabella Sciorra did her character justice wi...               True   \n",
       "1  ...isn't always how you expect it to be, but w...               True   \n",
       "2  As you learn about the very unique characters ...               True   \n",
       "3  Our family loved the film. We have kids and th...               True   \n",
       "4  This DVD was GREAT!  I am a stay at home mom w...               True   \n",
       "\n",
       "  main_category  average_rating  rating_number                        title  \n",
       "0   Prime Video             3.9            182                         None  \n",
       "1   Prime Video             4.5            389                         None  \n",
       "2   Prime Video             4.8           1966                         None  \n",
       "3   Prime Video             4.5          57962                         None  \n",
       "4   Movies & TV             4.6            793  10 Minute Solution: Pilates  "
      ]
     },
     "execution_count": 18,
     "metadata": {},
     "output_type": "execute_result"
    }
   ],
   "source": [
    "df_merged = df_review_cleaned.merge(df_product_cleaned, on=\"parent_asin\", how='inner')\n",
    "df_merged.head()"
   ]
  },
  {
   "cell_type": "code",
   "execution_count": 19,
   "id": "6bbdebe7",
   "metadata": {},
   "outputs": [
    {
     "data": {
      "text/plain": [
       "(7747968, 10)"
      ]
     },
     "execution_count": 19,
     "metadata": {},
     "output_type": "execute_result"
    }
   ],
   "source": [
    "df_merged.shape"
   ]
  },
  {
   "cell_type": "markdown",
   "id": "81e90a13",
   "metadata": {},
   "source": [
    "unique movies"
   ]
  },
  {
   "cell_type": "code",
   "execution_count": 20,
   "id": "d8fe876c",
   "metadata": {},
   "outputs": [
    {
     "data": {
      "text/plain": [
       "442558"
      ]
     },
     "execution_count": 20,
     "metadata": {},
     "output_type": "execute_result"
    }
   ],
   "source": [
    "df_merged[\"parent_asin\"].nunique()"
   ]
  },
  {
   "cell_type": "markdown",
   "id": "38eda971",
   "metadata": {},
   "source": [
    "unique reviewers"
   ]
  },
  {
   "cell_type": "code",
   "execution_count": 21,
   "id": "e9660d21",
   "metadata": {},
   "outputs": [
    {
     "data": {
      "text/plain": [
       "3552587"
      ]
     },
     "execution_count": 21,
     "metadata": {},
     "output_type": "execute_result"
    }
   ],
   "source": [
    "df_merged[\"user_id\"].nunique()"
   ]
  },
  {
   "cell_type": "markdown",
   "id": "9916dc31",
   "metadata": {},
   "source": [
    "## Tesing functions"
   ]
  },
  {
   "cell_type": "code",
   "execution_count": 22,
   "id": "2e140d3e",
   "metadata": {},
   "outputs": [
    {
     "data": {
      "text/html": [
       "<div>\n",
       "<style scoped>\n",
       "    .dataframe tbody tr th:only-of-type {\n",
       "        vertical-align: middle;\n",
       "    }\n",
       "\n",
       "    .dataframe tbody tr th {\n",
       "        vertical-align: top;\n",
       "    }\n",
       "\n",
       "    .dataframe thead th {\n",
       "        text-align: right;\n",
       "    }\n",
       "</style>\n",
       "<table border=\"1\" class=\"dataframe\">\n",
       "  <thead>\n",
       "    <tr style=\"text-align: right;\">\n",
       "      <th></th>\n",
       "      <th>parent_asin</th>\n",
       "      <th>user_id</th>\n",
       "      <th>rating</th>\n",
       "      <th>timestamp</th>\n",
       "      <th>text</th>\n",
       "      <th>verified_purchase</th>\n",
       "      <th>main_category</th>\n",
       "      <th>average_rating</th>\n",
       "      <th>rating_number</th>\n",
       "      <th>title</th>\n",
       "    </tr>\n",
       "  </thead>\n",
       "  <tbody>\n",
       "    <tr>\n",
       "      <th>0</th>\n",
       "      <td>B096Z8Z3R6</td>\n",
       "      <td>AG2L7H23R5LLKDKLBEF2Q3L2MVDA</td>\n",
       "      <td>3.0</td>\n",
       "      <td>1646271834582</td>\n",
       "      <td>Annabella Sciorra did her character justice wi...</td>\n",
       "      <td>True</td>\n",
       "      <td>Prime Video</td>\n",
       "      <td>3.9</td>\n",
       "      <td>182</td>\n",
       "      <td>None</td>\n",
       "    </tr>\n",
       "    <tr>\n",
       "      <th>1</th>\n",
       "      <td>B001H1SVZC</td>\n",
       "      <td>AG2L7H23R5LLKDKLBEF2Q3L2MVDA</td>\n",
       "      <td>5.0</td>\n",
       "      <td>1590639227074</td>\n",
       "      <td>...isn't always how you expect it to be, but w...</td>\n",
       "      <td>True</td>\n",
       "      <td>Prime Video</td>\n",
       "      <td>4.5</td>\n",
       "      <td>389</td>\n",
       "      <td>None</td>\n",
       "    </tr>\n",
       "    <tr>\n",
       "      <th>2</th>\n",
       "      <td>B06WVW16WY</td>\n",
       "      <td>AG2L7H23R5LLKDKLBEF2Q3L2MVDA</td>\n",
       "      <td>5.0</td>\n",
       "      <td>1586999747540</td>\n",
       "      <td>As you learn about the very unique characters ...</td>\n",
       "      <td>True</td>\n",
       "      <td>Prime Video</td>\n",
       "      <td>4.8</td>\n",
       "      <td>1966</td>\n",
       "      <td>None</td>\n",
       "    </tr>\n",
       "  </tbody>\n",
       "</table>\n",
       "</div>"
      ],
      "text/plain": [
       "  parent_asin                       user_id  rating      timestamp  \\\n",
       "0  B096Z8Z3R6  AG2L7H23R5LLKDKLBEF2Q3L2MVDA     3.0  1646271834582   \n",
       "1  B001H1SVZC  AG2L7H23R5LLKDKLBEF2Q3L2MVDA     5.0  1590639227074   \n",
       "2  B06WVW16WY  AG2L7H23R5LLKDKLBEF2Q3L2MVDA     5.0  1586999747540   \n",
       "\n",
       "                                                text  verified_purchase  \\\n",
       "0  Annabella Sciorra did her character justice wi...               True   \n",
       "1  ...isn't always how you expect it to be, but w...               True   \n",
       "2  As you learn about the very unique characters ...               True   \n",
       "\n",
       "  main_category  average_rating  rating_number title  \n",
       "0   Prime Video             3.9            182  None  \n",
       "1   Prime Video             4.5            389  None  \n",
       "2   Prime Video             4.8           1966  None  "
      ]
     },
     "execution_count": 22,
     "metadata": {},
     "output_type": "execute_result"
    }
   ],
   "source": [
    "df_merged[df_merged[\"user_id\"] == \"AG2L7H23R5LLKDKLBEF2Q3L2MVDA\"]"
   ]
  },
  {
   "cell_type": "code",
   "execution_count": 23,
   "id": "586b48b3",
   "metadata": {},
   "outputs": [
    {
     "data": {
      "text/plain": [
       "parent_asin\n",
       "000014357X    5\n",
       "0000143588    1\n",
       "0001527665    1\n",
       "0005019281    1\n",
       "0005059836    2\n",
       "             ..\n",
       "B0CBNSVH5L    1\n",
       "B0CBNV6JYF    4\n",
       "B0CBNVT5YQ    1\n",
       "B0CC6R1NTK    1\n",
       "B0CGGVXKHK    1\n",
       "Name: user_id, Length: 442558, dtype: int64"
      ]
     },
     "execution_count": 23,
     "metadata": {},
     "output_type": "execute_result"
    }
   ],
   "source": [
    "df_merged.groupby(\"parent_asin\")[\"user_id\"].count() # so this is the count of user ids for each movie"
   ]
  },
  {
   "cell_type": "code",
   "execution_count": 24,
   "id": "a075602a",
   "metadata": {},
   "outputs": [
    {
     "data": {
      "text/plain": [
       "parent_asin\n",
       "000014357X    [AE4YKFLVAOESWGLVISB7HXVRI75Q, AHI5XCQKDUCXXMP...\n",
       "0000143588                       [AEJ4GSF2IFH4ZVW623BBIGGAUSNQ]\n",
       "0001527665                       [AF3TSDF4K4I54N7RGKADC4CBQCHQ]\n",
       "0005019281                       [AGHFYEGKOI4NGDPWHU7VLMBCTVKQ]\n",
       "0005059836    [AGGVVP35Y2ULXHVBAOO7HCM2Z3VQ, AGXG46F5YQF2VYK...\n",
       "                                    ...                        \n",
       "B0CBNSVH5L                       [AHZRARNCAZ3XPR6ZL6PTAY4UMVEQ]\n",
       "B0CBNV6JYF    [AEXGPWXEFTZFLMV454BOLHNEOYKQ, AGLZJHGY4SFYZA3...\n",
       "B0CBNVT5YQ                       [AGMBBZFVKNCBVHKB7VCXQBGEDTKQ]\n",
       "B0CC6R1NTK                       [AEVS5GNGVPRJSXTCBJ7YESUY7RKQ]\n",
       "B0CGGVXKHK                       [AGSJ4R3YLXZTNSHJK6HQXUF4CTGA]\n",
       "Name: user_id, Length: 442558, dtype: object"
      ]
     },
     "execution_count": 24,
     "metadata": {},
     "output_type": "execute_result"
    }
   ],
   "source": [
    "groups = df_merged.groupby(\"parent_asin\")[\"user_id\"].apply(list)\n",
    "groups"
   ]
  },
  {
   "cell_type": "markdown",
   "id": "58a3d47a",
   "metadata": {},
   "source": [
    "## Creating graph"
   ]
  },
  {
   "cell_type": "markdown",
   "id": "544b3a7c",
   "metadata": {},
   "source": [
    "Creating groups based on reviewer, which makes a list of movies/TV. The list is then sorted. And removed is there is less than 2"
   ]
  },
  {
   "cell_type": "code",
   "execution_count": 25,
   "id": "5502264b",
   "metadata": {},
   "outputs": [],
   "source": [
    "# grouped = (\n",
    "#     df_merged.groupby('parent_asin')['user_id']\n",
    "#     .apply(lambda g: sorted(g.tolist()))\n",
    "#     .loc[lambda x: x.str.len() >= 2]\n",
    "# )"
   ]
  },
  {
   "cell_type": "code",
   "execution_count": 26,
   "id": "115a7f50",
   "metadata": {},
   "outputs": [],
   "source": [
    "# grouped, grouped.shape"
   ]
  },
  {
   "cell_type": "code",
   "execution_count": null,
   "id": "5f932288",
   "metadata": {},
   "outputs": [
    {
     "name": "stdout",
     "output_type": "stream",
     "text": [
      "Creating mappings...\n"
     ]
    },
    {
     "name": "stderr",
     "output_type": "stream",
     "text": [
      "100%|██████████| 7674902/7674902 [03:23<00:00, 37695.06it/s]\n"
     ]
    },
    {
     "name": "stdout",
     "output_type": "stream",
     "text": [
      "Computing edges in parallel...\n"
     ]
    },
    {
     "name": "stderr",
     "output_type": "stream",
     "text": [
      "  0%|          | 306/442558 [11:20<303:37:45,  2.47s/it] "
     ]
    }
   ],
   "source": [
    "df_graph = df_merged[['user_id', 'parent_asin']].dropna().drop_duplicates()\n",
    "# 2. Create bidirectional mappings\n",
    "print(\"Creating mappings...\")\n",
    "# ASIN to reviewers\n",
    "asin_to_reviewers = defaultdict(set)\n",
    "# Reviewer to ASINs\n",
    "reviewer_to_asins = defaultdict(set)\n",
    "\n",
    "for _, row in tqdm(df_graph.iterrows(), total=len(df_graph)):\n",
    "    asin_to_reviewers[row['parent_asin']].add(row['user_id'])\n",
    "    reviewer_to_asins[row['user_id']].add(row['parent_asin'])\n",
    "\n",
    "# 3. Create graph and add nodes\n",
    "G = nx.Graph()\n",
    "G.add_nodes_from(asin_to_reviewers.keys())\n",
    "\n",
    "# 4. Parallel edge computation\n",
    "def compute_edges_for_asin(asin, asin_to_reviewers, all_asins):\n",
    "    edges = []\n",
    "    # Get all other ASINs that share at least one reviewer\n",
    "    co_reviewed_asins = set()\n",
    "    for reviewer in asin_to_reviewers[asin]:\n",
    "        co_reviewed_asins.update(reviewer_to_asins[reviewer])\n",
    "    \n",
    "    # Remove self and already processed pairs\n",
    "    co_reviewed_asins.discard(asin)\n",
    "    co_reviewed_asins = [a for a in co_reviewed_asins if all_asins.index(a) > all_asins.index(asin)]\n",
    "    \n",
    "    for other_asin in co_reviewed_asins:\n",
    "        weight = len(asin_to_reviewers[asin] & asin_to_reviewers[other_asin])\n",
    "        if weight > 0:\n",
    "            edges.append((asin, other_asin, weight))\n",
    "    return edges\n",
    "\n",
    "print(\"Computing edges in parallel...\")\n",
    "all_asins = list(asin_to_reviewers.keys())\n",
    "results = Parallel(n_jobs=-1, prefer=\"processes\")(\n",
    "    delayed(compute_edges_for_asin)(asin, asin_to_reviewers, all_asins)\n",
    "    for asin in tqdm(all_asins)\n",
    ")\n",
    "\n",
    "# 5. Add edges to graph\n",
    "print(\"Building graph...\")\n",
    "for edges in tqdm(results):\n",
    "    for asin1, asin2, weight in edges:\n",
    "        G.add_edge(asin1, asin2, weight=weight)\n",
    "\n",
    "print(f\"Graph constructed with {G.number_of_nodes()} nodes and {G.number_of_edges()} edges\")\n"
   ]
  },
  {
   "cell_type": "code",
   "execution_count": null,
   "id": "f309f756",
   "metadata": {},
   "outputs": [
    {
     "ename": "MemoryError",
     "evalue": "",
     "output_type": "error",
     "traceback": [
      "\u001b[1;31m---------------------------------------------------------------------------\u001b[0m",
      "\u001b[1;31mMemoryError\u001b[0m                               Traceback (most recent call last)",
      "Cell \u001b[1;32mIn[34], line 2\u001b[0m\n\u001b[0;32m      1\u001b[0m all_pairs \u001b[38;5;241m=\u001b[39m chain\u001b[38;5;241m.\u001b[39mfrom_iterable(combinations(movies, \u001b[38;5;241m2\u001b[39m) \u001b[38;5;28;01mfor\u001b[39;00m movies \u001b[38;5;129;01min\u001b[39;00m grouped)\n\u001b[1;32m----> 2\u001b[0m coauthor_count \u001b[38;5;241m=\u001b[39m \u001b[43mCounter\u001b[49m\u001b[43m(\u001b[49m\u001b[43mall_pairs\u001b[49m\u001b[43m)\u001b[49m\n",
      "File \u001b[1;32mc:\\Users\\mia\\AppData\\Local\\Programs\\Python\\Python312\\Lib\\collections\\__init__.py:607\u001b[0m, in \u001b[0;36mCounter.__init__\u001b[1;34m(self, iterable, **kwds)\u001b[0m\n\u001b[0;32m    596\u001b[0m \u001b[38;5;250m\u001b[39m\u001b[38;5;124;03m'''Create a new, empty Counter object.  And if given, count elements\u001b[39;00m\n\u001b[0;32m    597\u001b[0m \u001b[38;5;124;03mfrom an input iterable.  Or, initialize the count from another mapping\u001b[39;00m\n\u001b[0;32m    598\u001b[0m \u001b[38;5;124;03mof elements to their counts.\u001b[39;00m\n\u001b[1;32m   (...)\u001b[0m\n\u001b[0;32m    604\u001b[0m \n\u001b[0;32m    605\u001b[0m \u001b[38;5;124;03m'''\u001b[39;00m\n\u001b[0;32m    606\u001b[0m \u001b[38;5;28msuper\u001b[39m()\u001b[38;5;241m.\u001b[39m\u001b[38;5;21m__init__\u001b[39m()\n\u001b[1;32m--> 607\u001b[0m \u001b[38;5;28;43mself\u001b[39;49m\u001b[38;5;241;43m.\u001b[39;49m\u001b[43mupdate\u001b[49m\u001b[43m(\u001b[49m\u001b[43miterable\u001b[49m\u001b[43m,\u001b[49m\u001b[43m \u001b[49m\u001b[38;5;241;43m*\u001b[39;49m\u001b[38;5;241;43m*\u001b[39;49m\u001b[43mkwds\u001b[49m\u001b[43m)\u001b[49m\n",
      "File \u001b[1;32mc:\\Users\\mia\\AppData\\Local\\Programs\\Python\\Python312\\Lib\\collections\\__init__.py:699\u001b[0m, in \u001b[0;36mCounter.update\u001b[1;34m(self, iterable, **kwds)\u001b[0m\n\u001b[0;32m    697\u001b[0m             \u001b[38;5;28msuper\u001b[39m()\u001b[38;5;241m.\u001b[39mupdate(iterable)\n\u001b[0;32m    698\u001b[0m     \u001b[38;5;28;01melse\u001b[39;00m:\n\u001b[1;32m--> 699\u001b[0m         \u001b[43m_count_elements\u001b[49m\u001b[43m(\u001b[49m\u001b[38;5;28;43mself\u001b[39;49m\u001b[43m,\u001b[49m\u001b[43m \u001b[49m\u001b[43miterable\u001b[49m\u001b[43m)\u001b[49m\n\u001b[0;32m    700\u001b[0m \u001b[38;5;28;01mif\u001b[39;00m kwds:\n\u001b[0;32m    701\u001b[0m     \u001b[38;5;28mself\u001b[39m\u001b[38;5;241m.\u001b[39mupdate(kwds)\n",
      "\u001b[1;31mMemoryError\u001b[0m: "
     ]
    }
   ],
   "source": [
    "# all_pairs = chain.from_iterable(combinations(movies, 2) for movies in grouped)\n",
    "# coauthor_count = Counter(all_pairs)"
   ]
  },
  {
   "cell_type": "code",
   "execution_count": null,
   "id": "c4d0d569",
   "metadata": {},
   "outputs": [],
   "source": [
    "Graph = nx.Graph()\n",
    "Graph.add_weighted_edges_from(edgelist)"
   ]
  },
  {
   "cell_type": "code",
   "execution_count": null,
   "id": "d81888ce",
   "metadata": {},
   "outputs": [
    {
     "data": {
      "text/plain": [
       "(686859, 187974782)"
      ]
     },
     "execution_count": 28,
     "metadata": {},
     "output_type": "execute_result"
    }
   ],
   "source": [
    "Graph.number_of_nodes(), Graph.number_of_edges()"
   ]
  },
  {
   "cell_type": "code",
   "execution_count": null,
   "id": "a6af0a70",
   "metadata": {},
   "outputs": [
    {
     "name": "stdout",
     "output_type": "stream",
     "text": [
      "Number of isolated nodes in the network is 0.\n"
     ]
    }
   ],
   "source": [
    "# Find number of isolated nodes\n",
    "num_isolated = len(list(nx.isolates(Graph)))\n",
    "print(f\"Number of isolated nodes in the network is {num_isolated}.\")"
   ]
  },
  {
   "cell_type": "code",
   "execution_count": null,
   "id": "73ae21dc",
   "metadata": {},
   "outputs": [],
   "source": [
    "import numpy as np\n",
    "from scipy import stats"
   ]
  },
  {
   "cell_type": "code",
   "execution_count": null,
   "id": "21332e1a",
   "metadata": {},
   "outputs": [
    {
     "name": "stdout",
     "output_type": "stream",
     "text": [
      "Average degree of the nodes is 547.3.\n",
      "Median degree of the nodes is 64.0.\n",
      "Mode degree of the nodes is 1.\n",
      "Minimum degree of the nodes is 1.\n",
      "Maximum degree of the nodes is 63055.\n"
     ]
    }
   ],
   "source": [
    "# Compute the average, median, mode, minimum, and maximum degree of the nodes\n",
    "\n",
    "# Get the degrees of all the nodes\n",
    "degrees = [degree for node, degree in Graph.degree()]\n",
    "\n",
    "avg_deg = np.mean(degrees)\n",
    "med_deg = np.median(degrees)\n",
    "mode_deg = stats.mode(degrees, keepdims=True)[0][0] # keepdims=True to get the mode as an array\n",
    "min_deg = min(degrees)\n",
    "max_deg = max(degrees)\n",
    "\n",
    "print(f\"Average degree of the nodes is {round(avg_deg, 1)}.\")\n",
    "print(f\"Median degree of the nodes is {med_deg}.\")\n",
    "print(f\"Mode degree of the nodes is {mode_deg}.\")\n",
    "print(f\"Minimum degree of the nodes is {min_deg}.\")\n",
    "print(f\"Maximum degree of the nodes is {max_deg}.\")"
   ]
  },
  {
   "cell_type": "code",
   "execution_count": null,
   "id": "fded5078",
   "metadata": {},
   "outputs": [
    {
     "ename": "KeyboardInterrupt",
     "evalue": "",
     "output_type": "error",
     "traceback": [
      "\u001b[1;31m---------------------------------------------------------------------------\u001b[0m",
      "\u001b[1;31mKeyboardInterrupt\u001b[0m                         Traceback (most recent call last)",
      "Cell \u001b[1;32mIn[31], line 1\u001b[0m\n\u001b[1;32m----> 1\u001b[0m \u001b[43mnetwulf\u001b[49m\u001b[38;5;241;43m.\u001b[39;49m\u001b[43mvisualize\u001b[49m\u001b[43m(\u001b[49m\u001b[43mGraph\u001b[49m\u001b[43m)\u001b[49m\n",
      "File \u001b[1;32mc:\\Users\\mia\\AppData\\Local\\Programs\\Python\\Python312\\Lib\\site-packages\\netwulf\\interactive.py:274\u001b[0m, in \u001b[0;36mvisualize\u001b[1;34m(network, port, verbose, config, plot_in_cell_below, is_test)\u001b[0m\n\u001b[0;32m    272\u001b[0m \u001b[38;5;28;01mwith\u001b[39;00m \u001b[38;5;28mopen\u001b[39m(filepath,\u001b[38;5;124m'\u001b[39m\u001b[38;5;124mw\u001b[39m\u001b[38;5;124m'\u001b[39m) \u001b[38;5;28;01mas\u001b[39;00m f:\n\u001b[0;32m    273\u001b[0m     \u001b[38;5;28;01mif\u001b[39;00m \u001b[38;5;28mtype\u001b[39m(network) \u001b[38;5;129;01min\u001b[39;00m [nx\u001b[38;5;241m.\u001b[39mGraph, nx\u001b[38;5;241m.\u001b[39mDiGraph, nx\u001b[38;5;241m.\u001b[39mMultiDiGraph]:\n\u001b[1;32m--> 274\u001b[0m         network \u001b[38;5;241m=\u001b[39m \u001b[43mnx\u001b[49m\u001b[38;5;241;43m.\u001b[39;49m\u001b[43mnode_link_data\u001b[49m\u001b[43m(\u001b[49m\u001b[43mnetwork\u001b[49m\u001b[43m)\u001b[49m\n\u001b[0;32m    275\u001b[0m         \u001b[38;5;28;01mif\u001b[39;00m \u001b[38;5;124m'\u001b[39m\u001b[38;5;124mgraph\u001b[39m\u001b[38;5;124m'\u001b[39m \u001b[38;5;129;01min\u001b[39;00m network:\n\u001b[0;32m    276\u001b[0m             network\u001b[38;5;241m.\u001b[39mupdate(network[\u001b[38;5;124m'\u001b[39m\u001b[38;5;124mgraph\u001b[39m\u001b[38;5;124m'\u001b[39m])\n",
      "File \u001b[1;32mc:\\Users\\mia\\AppData\\Local\\Programs\\Python\\Python312\\Lib\\site-packages\\networkx\\readwrite\\json_graph\\node_link.py:131\u001b[0m, in \u001b[0;36mnode_link_data\u001b[1;34m(G, source, target, name, key, link)\u001b[0m\n\u001b[0;32m    126\u001b[0m     data[link] \u001b[38;5;241m=\u001b[39m [\n\u001b[0;32m    127\u001b[0m         {\u001b[38;5;241m*\u001b[39m\u001b[38;5;241m*\u001b[39md, source: u, target: v, key: k}\n\u001b[0;32m    128\u001b[0m         \u001b[38;5;28;01mfor\u001b[39;00m u, v, k, d \u001b[38;5;129;01min\u001b[39;00m G\u001b[38;5;241m.\u001b[39medges(keys\u001b[38;5;241m=\u001b[39m\u001b[38;5;28;01mTrue\u001b[39;00m, data\u001b[38;5;241m=\u001b[39m\u001b[38;5;28;01mTrue\u001b[39;00m)\n\u001b[0;32m    129\u001b[0m     ]\n\u001b[0;32m    130\u001b[0m \u001b[38;5;28;01melse\u001b[39;00m:\n\u001b[1;32m--> 131\u001b[0m     data[link] \u001b[38;5;241m=\u001b[39m [{\u001b[38;5;241m*\u001b[39m\u001b[38;5;241m*\u001b[39md, source: u, target: v} \u001b[38;5;28;01mfor\u001b[39;00m u, v, d \u001b[38;5;129;01min\u001b[39;00m G\u001b[38;5;241m.\u001b[39medges(data\u001b[38;5;241m=\u001b[39m\u001b[38;5;28;01mTrue\u001b[39;00m)]\n\u001b[0;32m    132\u001b[0m \u001b[38;5;28;01mreturn\u001b[39;00m data\n",
      "\u001b[1;31mKeyboardInterrupt\u001b[0m: "
     ]
    }
   ],
   "source": [
    "netwulf.visualize(Graph)"
   ]
  },
  {
   "cell_type": "code",
   "execution_count": null,
   "id": "f316e896",
   "metadata": {},
   "outputs": [
    {
     "ename": "KeyboardInterrupt",
     "evalue": "",
     "output_type": "error",
     "traceback": [
      "\u001b[1;31m---------------------------------------------------------------------------\u001b[0m",
      "\u001b[1;31mKeyboardInterrupt\u001b[0m                         Traceback (most recent call last)",
      "Cell \u001b[1;32mIn[30], line 1\u001b[0m\n\u001b[1;32m----> 1\u001b[0m \u001b[43mnetwulf\u001b[49m\u001b[38;5;241;43m.\u001b[39;49m\u001b[43mvisualize\u001b[49m\u001b[43m(\u001b[49m\n\u001b[0;32m      2\u001b[0m \u001b[43m    \u001b[49m\u001b[43mGraph\u001b[49m\u001b[43m,\u001b[49m\n\u001b[0;32m      3\u001b[0m \u001b[43m    \u001b[49m\u001b[43mconfig\u001b[49m\u001b[38;5;241;43m=\u001b[39;49m\u001b[43m{\u001b[49m\n\u001b[0;32m      4\u001b[0m \u001b[43m        \u001b[49m\u001b[38;5;124;43m'\u001b[39;49m\u001b[38;5;124;43mcolorPalette\u001b[39;49m\u001b[38;5;124;43m'\u001b[39;49m\u001b[43m:\u001b[49m\u001b[43m \u001b[49m\u001b[38;5;124;43m'\u001b[39;49m\u001b[38;5;124;43mcategory10\u001b[39;49m\u001b[38;5;124;43m'\u001b[39;49m\u001b[43m,\u001b[49m\u001b[43m  \u001b[49m\u001b[38;5;66;43;03m# Use distinct colors\u001b[39;49;00m\n\u001b[0;32m      5\u001b[0m \u001b[43m        \u001b[49m\u001b[38;5;124;43m'\u001b[39;49m\u001b[38;5;124;43mzoom\u001b[39;49m\u001b[38;5;124;43m'\u001b[39;49m\u001b[43m:\u001b[49m\u001b[43m \u001b[49m\u001b[38;5;241;43m0.6\u001b[39;49m\u001b[43m,\u001b[49m\n\u001b[0;32m      6\u001b[0m \u001b[43m        \u001b[49m\u001b[38;5;124;43m'\u001b[39;49m\u001b[38;5;124;43mnodeCharge\u001b[39;49m\u001b[38;5;124;43m'\u001b[39;49m\u001b[43m:\u001b[49m\u001b[43m \u001b[49m\u001b[38;5;241;43m-\u001b[39;49m\u001b[38;5;241;43m50\u001b[39;49m\u001b[43m,\u001b[49m\n\u001b[0;32m      7\u001b[0m \u001b[43m        \u001b[49m\u001b[38;5;124;43m'\u001b[39;49m\u001b[38;5;124;43mgravity\u001b[39;49m\u001b[38;5;124;43m'\u001b[39;49m\u001b[43m:\u001b[49m\u001b[43m \u001b[49m\u001b[38;5;241;43m0.25\u001b[39;49m\n\u001b[0;32m      8\u001b[0m \u001b[43m    \u001b[49m\u001b[43m}\u001b[49m\u001b[43m)\u001b[49m\n",
      "File \u001b[1;32mc:\\Users\\mia\\AppData\\Local\\Programs\\Python\\Python312\\Lib\\site-packages\\netwulf\\interactive.py:274\u001b[0m, in \u001b[0;36mvisualize\u001b[1;34m(network, port, verbose, config, plot_in_cell_below, is_test)\u001b[0m\n\u001b[0;32m    272\u001b[0m \u001b[38;5;28;01mwith\u001b[39;00m \u001b[38;5;28mopen\u001b[39m(filepath,\u001b[38;5;124m'\u001b[39m\u001b[38;5;124mw\u001b[39m\u001b[38;5;124m'\u001b[39m) \u001b[38;5;28;01mas\u001b[39;00m f:\n\u001b[0;32m    273\u001b[0m     \u001b[38;5;28;01mif\u001b[39;00m \u001b[38;5;28mtype\u001b[39m(network) \u001b[38;5;129;01min\u001b[39;00m [nx\u001b[38;5;241m.\u001b[39mGraph, nx\u001b[38;5;241m.\u001b[39mDiGraph, nx\u001b[38;5;241m.\u001b[39mMultiDiGraph]:\n\u001b[1;32m--> 274\u001b[0m         network \u001b[38;5;241m=\u001b[39m \u001b[43mnx\u001b[49m\u001b[38;5;241;43m.\u001b[39;49m\u001b[43mnode_link_data\u001b[49m\u001b[43m(\u001b[49m\u001b[43mnetwork\u001b[49m\u001b[43m)\u001b[49m\n\u001b[0;32m    275\u001b[0m         \u001b[38;5;28;01mif\u001b[39;00m \u001b[38;5;124m'\u001b[39m\u001b[38;5;124mgraph\u001b[39m\u001b[38;5;124m'\u001b[39m \u001b[38;5;129;01min\u001b[39;00m network:\n\u001b[0;32m    276\u001b[0m             network\u001b[38;5;241m.\u001b[39mupdate(network[\u001b[38;5;124m'\u001b[39m\u001b[38;5;124mgraph\u001b[39m\u001b[38;5;124m'\u001b[39m])\n",
      "File \u001b[1;32mc:\\Users\\mia\\AppData\\Local\\Programs\\Python\\Python312\\Lib\\site-packages\\networkx\\readwrite\\json_graph\\node_link.py:131\u001b[0m, in \u001b[0;36mnode_link_data\u001b[1;34m(G, source, target, name, key, link)\u001b[0m\n\u001b[0;32m    126\u001b[0m     data[link] \u001b[38;5;241m=\u001b[39m [\n\u001b[0;32m    127\u001b[0m         {\u001b[38;5;241m*\u001b[39m\u001b[38;5;241m*\u001b[39md, source: u, target: v, key: k}\n\u001b[0;32m    128\u001b[0m         \u001b[38;5;28;01mfor\u001b[39;00m u, v, k, d \u001b[38;5;129;01min\u001b[39;00m G\u001b[38;5;241m.\u001b[39medges(keys\u001b[38;5;241m=\u001b[39m\u001b[38;5;28;01mTrue\u001b[39;00m, data\u001b[38;5;241m=\u001b[39m\u001b[38;5;28;01mTrue\u001b[39;00m)\n\u001b[0;32m    129\u001b[0m     ]\n\u001b[0;32m    130\u001b[0m \u001b[38;5;28;01melse\u001b[39;00m:\n\u001b[1;32m--> 131\u001b[0m     data[link] \u001b[38;5;241m=\u001b[39m [{\u001b[38;5;241m*\u001b[39m\u001b[38;5;241m*\u001b[39md, source: u, target: v} \u001b[38;5;28;01mfor\u001b[39;00m u, v, d \u001b[38;5;129;01min\u001b[39;00m G\u001b[38;5;241m.\u001b[39medges(data\u001b[38;5;241m=\u001b[39m\u001b[38;5;28;01mTrue\u001b[39;00m)]\n\u001b[0;32m    132\u001b[0m \u001b[38;5;28;01mreturn\u001b[39;00m data\n",
      "\u001b[1;31mKeyboardInterrupt\u001b[0m: "
     ]
    }
   ],
   "source": [
    "netwulf.visualize(\n",
    "    Graph,\n",
    "    config={\n",
    "        'colorPalette': 'category10',  # Use distinct colors\n",
    "        'zoom': 0.6,\n",
    "        'nodeCharge': -50,\n",
    "        'gravity': 0.25\n",
    "    })"
   ]
  },
  {
   "cell_type": "markdown",
   "id": "24097272",
   "metadata": {},
   "source": [
    "## Sentiment analysis"
   ]
  },
  {
   "cell_type": "markdown",
   "id": "9d3f55c3",
   "metadata": {},
   "source": [
    "for presentation"
   ]
  },
  {
   "cell_type": "code",
   "execution_count": 11,
   "id": "c26af136",
   "metadata": {},
   "outputs": [
    {
     "name": "stdout",
     "output_type": "stream",
     "text": [
      "Annabella Sciorra did her character justice with her portrayal of a mentally ill, depressed and traumatized individual who projects much of her inner wounds onto others. The challenges she faces with her father were sensitively portrayed and resonate with understanding and love. The ending really isn't an ending, though and feels like it was abandoned with not enough of a closure but other than that, its a decent movie to sit through if you're the type of person who likes to people-watch or analyze the actions of others. Has an independent-movie feel which is also somewhat comforting.\n",
      "---\n",
      "...isn't always how you expect it to be, but when its there, you know. That is what this movie is all about. Deep struggles within a broken home and a mother with an addiction and a best friend whom nobody else seems to understand but him. There's loss, there's triumph. There's a bit of magic with a psychic neighbor who makes quite an impact on the boy. This is one definitely worth your time.\n",
      "---\n",
      "As you learn about the very unique characters and the values they hold dear, you notice sweet simple things in them that will make you smile. And then as the movie moves deeper, the poetic script of the movie pulls you even deeper, reminding you of memories you might have forgotten as the best movies do. In simple words this movie inspires very deep emotions and just might motivate you to do that thing you've been procrastinating on for too long. The visual play on light and color throughout this film complements its depth. MUST-SEE!!!\n",
      "---\n",
      "Our family loved the film. We have kids and they thought the movie was so fun.  We liked it too. The reviews were harsh. And honestly I don’t think the previews were great. It’s worth watching.\n",
      "---\n",
      "This DVD was GREAT!  I am a stay at home mom who is totally out of shape.  I don't have alot of time for myself & this workout DVD fits the bill.  It has 5 different 10 minute workouts that you can do each individually or 2, 3, 4 or all 5 at one time.  The menu gives you the option of personalizing your workout to do how little or how many workouts.  Plus it targets 5 different areas of your body.  It doesn't get any easier then this.  I have never done pilates before and this was a great beginner workout.  Plus my kids love doing it with me!  I give it a A+++++++!!!\n",
      "---\n",
      "Good family friendly fun. I think mostly everyone can enjoy this movie.\n",
      "---\n",
      "What a great and fun show.  I love all of the characters and cannot wait for Season 2!\n",
      "---\n",
      "I wish there was more! I absolutely loved everything about this miniseries. I wish there were more seasons. The acting, dancing, music, storyline...perfect!\n",
      "---\n",
      "One of the best movies out there! It's even better watching it now than when I was a young child. Loved it then and love it now.\n",
      "---\n",
      "It was pretty good. Had some pretty comical scenes throughout. A great chick flick.\n",
      "---\n",
      "I loved this movie. It was so different than anything else out there.\n",
      "---\n",
      "We wanted to see this movie when it was up at a movie theater but never made it.  Was so happy that Amazon had this to rent.  Very powerful and well stated on dark matters in the U.S. I highly recommend this  movie, educational and a bit scary as well.\n",
      "---\n"
     ]
    }
   ],
   "source": [
    "for idx, item in enumerate(df_review_cleaned[\"text\"]):\n",
    "    print(item)\n",
    "    print(\"---\")\n",
    "    if idx > 10:\n",
    "        break"
   ]
  },
  {
   "cell_type": "code",
   "execution_count": 12,
   "id": "bef67ac4",
   "metadata": {},
   "outputs": [
    {
     "data": {
      "text/plain": [
       "{'neg': 0.0, 'neu': 0.575, 'pos': 0.425, 'compound': 0.9476}"
      ]
     },
     "execution_count": 12,
     "metadata": {},
     "output_type": "execute_result"
    }
   ],
   "source": [
    "text_test = \"One of the best movies out there! It's even better watching it now than when I was a young child. Loved it then and love it now.\"\n",
    "from nltk.sentiment import SentimentIntensityAnalyzer\n",
    "sia = SentimentIntensityAnalyzer()\n",
    "sia.polarity_scores(text_test)"
   ]
  }
 ],
 "metadata": {
  "kernelspec": {
   "display_name": "Python 3",
   "language": "python",
   "name": "python3"
  },
  "language_info": {
   "codemirror_mode": {
    "name": "ipython",
    "version": 3
   },
   "file_extension": ".py",
   "mimetype": "text/x-python",
   "name": "python",
   "nbconvert_exporter": "python",
   "pygments_lexer": "ipython3",
   "version": "3.12.8"
  }
 },
 "nbformat": 4,
 "nbformat_minor": 5
}
