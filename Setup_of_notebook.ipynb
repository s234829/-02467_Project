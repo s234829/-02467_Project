{
 "cells": [
  {
   "cell_type": "markdown",
   "id": "af195382",
   "metadata": {},
   "source": [
    "# Explainer notebook"
   ]
  },
  {
   "cell_type": "markdown",
   "id": "505339ee",
   "metadata": {},
   "source": [
    "All python packages used"
   ]
  },
  {
   "cell_type": "code",
   "execution_count": 1,
   "id": "58df4738",
   "metadata": {},
   "outputs": [],
   "source": [
    "import json\n",
    "import pandas as pd\n",
    "from tqdm import tqdm\n",
    "import networkx as nx\n",
    "from itertools import combinations, chain\n",
    "from collections import Counter, defaultdict\n",
    "import netwulf\n",
    "from joblib import Parallel, delayed\n",
    "# Add all the rest or just replace this with another list"
   ]
  },
  {
   "cell_type": "markdown",
   "id": "19011904",
   "metadata": {},
   "source": [
    "## Table of Contents\n",
    "1. [Motivation](#Motivation)\n",
    "2. [Basic stats](#Basic_stats)\n",
    "3. [Tools theory and analysis](#Tools_theory_analysis)\n",
    "4. [Discussion](#Discussion)"
   ]
  },
  {
   "cell_type": "markdown",
   "id": "b894d04a",
   "metadata": {},
   "source": [
    "## 1. Motivation <a id=\"Motivation\"></a>\n",
    "* What is your dataset?\n",
    "* Why did you choose this/these particular dataset(s)?\n",
    "* What was your goal for the end user's experience?"
   ]
  },
  {
   "cell_type": "markdown",
   "id": "af2dde77",
   "metadata": {},
   "source": [
    "## 2. Basic stats. Let's understand the dataset better <a id=\"Basic_stats\"></a>\n",
    "* Write about your choices in data cleaning and preprocessing\n",
    "* Write a short section that discusses the dataset stats (here you can recycle the work you did for Project Assignment A)\n"
   ]
  },
  {
   "cell_type": "markdown",
   "id": "215f5eb8",
   "metadata": {},
   "source": [
    "## 3. Tools, theory and analysis. Describe the process of theory to insight <a id=\"Tools_theory_analysis\"></a>\n",
    "* Talk about how you've worked with text, including regular expressions, unicode, etc.\n",
    "* Describe which network science tools and data analysis strategies you've used, how those network science measures work, and why the tools you've chosen are right for the problem you're solving.\n",
    "* How did you use the tools to understand your dataset?"
   ]
  },
  {
   "cell_type": "markdown",
   "id": "45cb4c8c",
   "metadata": {},
   "source": [
    "## 4. Discussion. Think critically about your creation <a id=\"Discussion\"></a>\n",
    "* What went well?\n",
    "* What is still missing? What could be improved? Why?"
   ]
  }
 ],
 "metadata": {
  "kernelspec": {
   "display_name": "Python 3",
   "language": "python",
   "name": "python3"
  },
  "language_info": {
   "codemirror_mode": {
    "name": "ipython",
    "version": 3
   },
   "file_extension": ".py",
   "mimetype": "text/x-python",
   "name": "python",
   "nbconvert_exporter": "python",
   "pygments_lexer": "ipython3",
   "version": "3.12.8"
  }
 },
 "nbformat": 4,
 "nbformat_minor": 5
}
